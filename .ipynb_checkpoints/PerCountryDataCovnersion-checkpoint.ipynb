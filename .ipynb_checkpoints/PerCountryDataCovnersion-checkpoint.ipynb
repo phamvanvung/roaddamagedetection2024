{
 "cells": [
  {
   "cell_type": "code",
   "execution_count": null,
   "metadata": {},
   "outputs": [],
   "source": [
    "import xml.etree.ElementTree as ET # parse xml anotation\n",
    "import glob # grab files\n",
    "import os # paths\n",
    "import json # process json\n",
    "import shutil # move file\n",
    "from sklearn.model_selection import train_test_split # train test splitting\n",
    "from tqdm.auto import tqdm # progress\n",
    "import random # random sample of images\n",
    "from PIL import Image, ImageDraw # draw on images\n",
    "from IPython.display import display # display images on jupyter notebook\n",
    "import numpy as np\n",
    "# reproducibility\n",
    "np.random.seed(42)\n",
    "random.seed(42)\n"
   ]
  },
  {
   "cell_type": "code",
   "execution_count": null,
   "metadata": {},
   "outputs": [],
   "source": [
    "def xml_to_yolo_bbox(bbox, w, h):\n",
    "    # xmin, ymin, xmax, ymax\n",
    "    x_center = ((bbox[2] + bbox[0]) / 2) / w\n",
    "    y_center = ((bbox[3] + bbox[1]) / 2) / h\n",
    "    width = (bbox[2] - bbox[0]) / w\n",
    "    height = (bbox[3] - bbox[1]) / h\n",
    "    return [x_center, y_center, width, height]\n",
    "def yolo_to_xml_bbox(bbox, w, h):\n",
    "    # x_center, y_center width heigth\n",
    "    w_half_len = (bbox[2] * w) / 2\n",
    "    h_half_len = (bbox[3] * h) / 2\n",
    "    xmin = int((bbox[0] * w) - w_half_len)\n",
    "    ymin = int((bbox[1] * h) - h_half_len)\n",
    "    xmax = int((bbox[0] * w) + w_half_len)\n",
    "    ymax = int((bbox[1] * h) + h_half_len)\n",
    "    return [xmin, ymin, xmax, ymax]"
   ]
  },
  {
   "cell_type": "code",
   "execution_count": null,
   "metadata": {},
   "outputs": [],
   "source": [
    "ls RDD2022_0/"
   ]
  },
  {
   "cell_type": "code",
   "execution_count": null,
   "metadata": {},
   "outputs": [],
   "source": [
    "input_dir = \"RDD2022_0/\"\n",
    "output_dir = \"RDD2022_3\"\n",
    "classes = [\"D00\", \"D10\", \"D20\", \"D40\"]\n",
    "train_countries = [\"Czech\", \"India\", \"Japan\", \"Norway1\", \"United_States\", \"China_MotorBike\", \"China_Drone\"]\n",
    "test_countries = [\"Czech\", \"India\", \"Japan\", \"Norway1\", \"United_States\", \"China_MotorBike\"]"
   ]
  },
  {
   "cell_type": "code",
   "execution_count": null,
   "metadata": {},
   "outputs": [],
   "source": [
    "annotation_files = []\n",
    "for c in train_countries:\n",
    "    im_per_c = glob.glob(os.path.join(input_dir, c, \"train/annotations/xmls/*.xml\"))\n",
    "    annotation_files += im_per_c"
   ]
  },
  {
   "cell_type": "code",
   "execution_count": null,
   "metadata": {},
   "outputs": [],
   "source": [
    "img_counts = [len(glob.glob(os.path.join(input_dir, c, \"train/annotations/xmls/*.xml\"))) for c in test_countries]"
   ]
  },
  {
   "cell_type": "code",
   "execution_count": null,
   "metadata": {},
   "outputs": [],
   "source": [
    "img_counts"
   ]
  },
  {
   "cell_type": "code",
   "execution_count": null,
   "metadata": {},
   "outputs": [],
   "source": [
    "sum(img_counts)"
   ]
  },
  {
   "cell_type": "code",
   "execution_count": null,
   "metadata": {},
   "outputs": [],
   "source": [
    "print(len(annotation_files))"
   ]
  },
  {
   "cell_type": "code",
   "execution_count": null,
   "metadata": {},
   "outputs": [],
   "source": [
    "def convert_files(files, classes):\n",
    "  converted_files = []\n",
    "  for fil in tqdm(files):\n",
    "      basename = os.path.basename(fil)\n",
    "      filename = os.path.splitext(basename)[0]\n",
    "      result = []\n",
    "      # parse the content of the xml file\n",
    "      tree = ET.parse(fil)\n",
    "      root = tree.getroot()\n",
    "      width = int(root.find(\"size\").find(\"width\").text)\n",
    "      height = int(root.find(\"size\").find(\"height\").text)\n",
    "\n",
    "      for obj in root.findall('object'):\n",
    "          label = obj.find(\"name\").text\n",
    "          # check for new classes and append to list\n",
    "          if label not in classes:\n",
    "              continue\n",
    "          index = classes.index(label)\n",
    "          pil_bbox = [int(float(x.text)) for x in obj.find(\"bndbox\")]\n",
    "          yolo_bbox = xml_to_yolo_bbox(pil_bbox, width, height)\n",
    "          # convert data to string\n",
    "          bbox_string = \" \".join([str(x) for x in yolo_bbox])\n",
    "          result.append(f\"{index} {bbox_string}\")\n",
    "\n",
    "      if result:\n",
    "          # generate a YOLO format text file for each xml file\n",
    "          converted_file = os.path.join(os.path.dirname(fil), f\"{filename}.txt\")\n",
    "          with open(converted_file, \"w\", encoding=\"utf-8\") as f:\n",
    "              f.write(\"\\n\".join(result))\n",
    "          converted_files.append(converted_file)\n",
    "  return converted_files"
   ]
  },
  {
   "cell_type": "code",
   "execution_count": null,
   "metadata": {},
   "outputs": [],
   "source": [
    "len(annotation_files)"
   ]
  },
  {
   "cell_type": "code",
   "execution_count": null,
   "metadata": {},
   "outputs": [],
   "source": []
  },
  {
   "cell_type": "code",
   "execution_count": null,
   "metadata": {},
   "outputs": [],
   "source": [
    "# convert\n",
    "annotation_files = convert_files(annotation_files, classes)"
   ]
  },
  {
   "cell_type": "code",
   "execution_count": null,
   "metadata": {},
   "outputs": [],
   "source": [
    "len(annotation_files)"
   ]
  },
  {
   "cell_type": "code",
   "execution_count": null,
   "metadata": {},
   "outputs": [],
   "source": [
    "# Do it for each country\n",
    "for c in test_countries:\n",
    "    files = glob.glob(os.path.join(input_dir, c, \"train/annotations/xmls/\", \"*.txt\"))\n",
    "    print(os.path.join(input_dir, c, \"train/annotations/xmls/\"))\n",
    "    print(f\"{c}: {len(files)}\")"
   ]
  },
  {
   "cell_type": "code",
   "execution_count": null,
   "metadata": {},
   "outputs": [],
   "source": [
    "usable_annotation_files = [1072, 3223, 7900, 2847, 4805, 1934]"
   ]
  },
  {
   "cell_type": "code",
   "execution_count": null,
   "metadata": {},
   "outputs": [],
   "source": [
    "import matplotlib\n",
    "import matplotlib.pyplot as plt\n",
    "import numpy as np\n",
    "%matplotlib inline\n",
    "%config InlineBackend.figure_format =\"svg\"\n",
    "# plt.rcParams['figure.dpi'] = 310\n",
    "fig, ax = plt.subplots()\n",
    "bar_width = 0.35\n",
    "index = np.arange(0, 12, 2)\n",
    "\n",
    "train_plt = ax.bar(index, img_counts, bar_width, label=\"Images\", color='darkgrey', hatch=\"////\", edgecolor='black')\n",
    "eval_plt = ax.bar(index + bar_width, usable_annotation_files, bar_width, label=\"Usable Images\", color='dimgrey',  edgecolor='black')\n",
    "\n",
    "# ax.set_xlabel('Folder')\n",
    "# ax.set_ylabel('Images')\n",
    "# ax.set_title('Number of images and usable images (images with annotations for damages)')\n",
    "ax.set_xticks(index + 0.5*bar_width)\n",
    "ax.set_xticklabels(test_countries, rotation=-45)\n",
    "\n",
    "ax.get_yaxis().set_major_formatter(\n",
    "matplotlib.ticker.FuncFormatter(lambda x, p: format(int(x), ',')))\n",
    "\n",
    "ax.legend()\n",
    "plt.show()"
   ]
  },
  {
   "cell_type": "code",
   "execution_count": null,
   "metadata": {},
   "outputs": [],
   "source": [
    "# Create the directories\n",
    "for c in test_countries:\n",
    "    # train imagesinput\n",
    "    os.makedirs(os.path.join(output_dir, c, \"images/train\"), exist_ok=True)\n",
    "    # val images\n",
    "    os.makedirs(os.path.join(output_dir, c, \"images/val\"), exist_ok=True)\n",
    "    # train labels\n",
    "    os.makedirs(os.path.join(output_dir, c, \"labels/train\"), exist_ok=True)\n",
    "    # val labels\n",
    "    os.makedirs(os.path.join(output_dir, c, \"labels/val\"), exist_ok=True)"
   ]
  },
  {
   "cell_type": "code",
   "execution_count": null,
   "metadata": {},
   "outputs": [],
   "source": [
    "# convert the path of annotation file to the original file\n",
    "def anno_to_img(f):\n",
    "    return os.path.join(\"/\".join(f.split(\"/\")[:3]), \"images\", os.path.splitext(os.path.basename(f))[0] + \".jpg\")"
   ]
  },
  {
   "cell_type": "code",
   "execution_count": null,
   "metadata": {},
   "outputs": [],
   "source": [
    "def copy_for_country(c, new_size=None):\n",
    "    c_annos = glob.glob(os.path.join(input_dir, c, \"train/annotations/xmls/*.txt\"))\n",
    "    c_train_annos, c_val_annos = train_test_split(c_annos, test_size=0.1, shuffle=True)\n",
    "    # add other countries in\n",
    "    for o in train_countries:\n",
    "        if o != c:\n",
    "            c_train_annos += glob.glob(os.path.join(input_dir, o, \"train/annotations/xmls/*.txt\"))\n",
    "    # now copy the train labels\n",
    "    dest_dir = os.path.join(output_dir, c, \"labels/train\")\n",
    "    for f in tqdm(c_train_annos):\n",
    "        shutil.copy(f, dest_dir)\n",
    "    # now copy the val labels\n",
    "    dest_dir = os.path.join(output_dir, c, \"labels/val\")\n",
    "    for f in tqdm(c_val_annos):\n",
    "        shutil.copy(f, dest_dir)\n",
    "    # now copy the train images\n",
    "    dest_dir = os.path.join(output_dir, c, \"images/train\")\n",
    "    for f in tqdm(c_train_annos):\n",
    "        if new_size != None:\n",
    "            img_path = anno_to_img(f)\n",
    "            Image.open(img_path).resize((new_size, new_size)).save(os.path.join(dest_dir, os.path.basename(img_path)))\n",
    "        else:\n",
    "            shutil.copy(anno_to_img(f), dest_dir)\n",
    "    # now copy the val images\n",
    "    dest_dir = os.path.join(output_dir, c, \"images/val\")\n",
    "    for f in tqdm(c_val_annos):\n",
    "        if new_size != None:\n",
    "            img_path = anno_to_img(f)\n",
    "            Image.open(img_path).resize((new_size, new_size)).save(os.path.join(dest_dir, os.path.basename(img_path)))\n",
    "        else:\n",
    "            shutil.copy(anno_to_img(f), dest_dir)\n",
    "    \n",
    "    "
   ]
  },
  {
   "cell_type": "code",
   "execution_count": null,
   "metadata": {},
   "outputs": [],
   "source": [
    "new_size = None\n",
    "for c in test_countries:\n",
    "    copy_for_country(c, new_size)"
   ]
  },
  {
   "cell_type": "code",
   "execution_count": null,
   "metadata": {},
   "outputs": [],
   "source": [
    "def draw_image(img, bboxes, labels):\n",
    "    draw = ImageDraw.Draw(img)\n",
    "    for i, bbox in enumerate(bboxes):\n",
    "        draw.rectangle(bbox, outline=\"red\", width=2)\n",
    "        draw.text([bbox[0], bbox[1]-12], labels[i])\n",
    "    display(img)"
   ]
  },
  {
   "cell_type": "code",
   "execution_count": null,
   "metadata": {},
   "outputs": [],
   "source": [
    "def image_to_anno_file(image_filename):\n",
    "  return os.path.join(output_dir,c, \"labels/train/\",  os.path.splitext(os.path.basename(image_filename))[0] + \".txt\")  "
   ]
  },
  {
   "cell_type": "code",
   "execution_count": null,
   "metadata": {},
   "outputs": [],
   "source": [
    "def anno_to_image_file(anno_filename):\n",
    "  return os.path.join(output_dir, c, \"images/train/\",  os.path.splitext(os.path.basename(anno_filename))[0] + \".jpg\")    "
   ]
  },
  {
   "cell_type": "code",
   "execution_count": null,
   "metadata": {},
   "outputs": [],
   "source": [
    "# get all the train files up again\n",
    "def get_train(c):\n",
    "    file_train = glob.glob(os.path.join(output_dir,c, \"labels/train\", \"*.txt\"))\n",
    "    return file_train"
   ]
  },
  {
   "cell_type": "code",
   "execution_count": null,
   "metadata": {},
   "outputs": [],
   "source": [
    "file_train = get_train(\"United_States\")"
   ]
  },
  {
   "cell_type": "code",
   "execution_count": null,
   "metadata": {},
   "outputs": [],
   "source": [
    "anno_to_image_file(file_train[0])"
   ]
  },
  {
   "cell_type": "code",
   "execution_count": null,
   "metadata": {},
   "outputs": [],
   "source": [
    "def draw_random_img():\n",
    "  anno_files = file_train\n",
    "  image_filename = anno_to_image_file(random.sample(anno_files, 1)[0])\n",
    "  label_filename = image_to_anno_file(image_filename)\n",
    "  bboxes = []\n",
    "  labels = []\n",
    "  img = Image.open(image_filename)\n",
    "  if os.path.exists(label_filename):\n",
    "    with open(label_filename, 'r', encoding='utf8') as f:\n",
    "        for line in f:\n",
    "            data = line.strip().split(' ')\n",
    "            bbox = [float(x) for x in data[1:]]\n",
    "            coords = yolo_to_xml_bbox(bbox, img.width, img.height)\n",
    "            labels.append(classes[int(data[0])])\n",
    "            bboxes.append(coords)\n",
    "  draw_image(img, bboxes, labels)\n",
    "  print(os.path.basename(image_filename))"
   ]
  },
  {
   "cell_type": "code",
   "execution_count": null,
   "metadata": {},
   "outputs": [],
   "source": [
    "draw_random_img()"
   ]
  },
  {
   "cell_type": "code",
   "execution_count": null,
   "metadata": {},
   "outputs": [],
   "source": [
    "draw_random_img()"
   ]
  },
  {
   "cell_type": "code",
   "execution_count": null,
   "metadata": {},
   "outputs": [],
   "source": [
    "draw_random_img()"
   ]
  },
  {
   "cell_type": "code",
   "execution_count": null,
   "metadata": {},
   "outputs": [],
   "source": [
    "draw_random_img()"
   ]
  }
 ],
 "metadata": {
  "kernelspec": {
   "display_name": "Python 3 (ipykernel)",
   "language": "python",
   "name": "python3"
  },
  "language_info": {
   "codemirror_mode": {
    "name": "ipython",
    "version": 3
   },
   "file_extension": ".py",
   "mimetype": "text/x-python",
   "name": "python",
   "nbconvert_exporter": "python",
   "pygments_lexer": "ipython3",
   "version": "3.11.7"
  }
 },
 "nbformat": 4,
 "nbformat_minor": 4
}
