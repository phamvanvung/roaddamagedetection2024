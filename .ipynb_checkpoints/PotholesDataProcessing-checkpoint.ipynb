{
 "cells": [
  {
   "cell_type": "markdown",
   "id": "5f049e61-4c7e-4c5f-8162-8c7ea570a6a0",
   "metadata": {},
   "source": [
    "# Pothole dataset\n",
    "The dataset is available from: https://universe.roboflow.com/object-detection/pothole-voxrl\n",
    "Please download it and use the following code to replace the label id 0 (there is only one class in the pothole) as 3 (which is the ID of the pothole in RDD dataset)."
   ]
  },
  {
   "cell_type": "code",
   "execution_count": 1,
   "id": "efb30f4b-cc16-47ba-83e1-f152abe711cb",
   "metadata": {},
   "outputs": [],
   "source": [
    "import os\n",
    "def replace(text_file):\n",
    "  '''\n",
    "  Replace the first number each line with a new number\n",
    "  '''\n",
    "  new_lines = []\n",
    "  with open(text_file, 'r') as f:\n",
    "    lines = f.readlines()\n",
    "    for l in lines:\n",
    "      l = l.split()\n",
    "      l[0] = '3'\n",
    "      new_lines.append(' '.join(l))\n",
    "  # write the lines back\n",
    "  with open(text_file, 'w') as f:\n",
    "    f.write('\\n'.join(new_lines))\n",
    "\n",
    "def replace_folder(folder):\n",
    "  files = os.listdir(folder)\n",
    "  for f in files:\n",
    "    if f.endswith('.txt'):\n",
    "      replace(os.path.join(folder, f))"
   ]
  },
  {
   "cell_type": "code",
   "execution_count": 5,
   "id": "53f440b1-f7ed-404d-b8fb-7ef2c47b86ac",
   "metadata": {},
   "outputs": [],
   "source": [
    "replace_folder(\"../../RDD2022_3/Potholes/train/labels\")"
   ]
  },
  {
   "cell_type": "code",
   "execution_count": 6,
   "id": "9182f6ce-fa8d-46d0-bbb1-7128ab741a0b",
   "metadata": {},
   "outputs": [],
   "source": [
    "replace_folder(\"../../RDD2022_3/Potholes/val/labels\")"
   ]
  },
  {
   "cell_type": "code",
   "execution_count": null,
   "id": "088e8a10-5133-42c2-b96b-4fa49ce8a5d6",
   "metadata": {},
   "outputs": [],
   "source": []
  }
 ],
 "metadata": {
  "kernelspec": {
   "display_name": "Python 3 (ipykernel)",
   "language": "python",
   "name": "python3"
  },
  "language_info": {
   "codemirror_mode": {
    "name": "ipython",
    "version": 3
   },
   "file_extension": ".py",
   "mimetype": "text/x-python",
   "name": "python",
   "nbconvert_exporter": "python",
   "pygments_lexer": "ipython3",
   "version": "3.11.7"
  }
 },
 "nbformat": 4,
 "nbformat_minor": 5
}
